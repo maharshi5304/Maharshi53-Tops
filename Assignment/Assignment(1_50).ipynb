{
  "nbformat": 4,
  "nbformat_minor": 0,
  "metadata": {
    "colab": {
      "provenance": []
    },
    "kernelspec": {
      "name": "python3",
      "display_name": "Python 3"
    },
    "language_info": {
      "name": "python"
    }
  },
  "cells": [
    {
      "cell_type": "markdown",
      "source": [
        "1. What are the types of Application?"
      ],
      "metadata": {
        "id": "QmJPwS-Fj4vb"
      }
    },
    {
      "cell_type": "markdown",
      "source": [
        "Ans\n",
        "1. web application\n",
        "2. data science and machine learning\n",
        "3. Destop GUI Application\n",
        "4. Automation and Scripting\n",
        "5. Game Devlopement\n",
        "6. Network Programming\n",
        "7. Embedded Systems\n",
        "8. Scientifoc and numeric computing\n",
        "9.  cybersecurity\n",
        "10. Eduction"
      ],
      "metadata": {
        "id": "_36ILvGqkv5q"
      }
    },
    {
      "cell_type": "markdown",
      "source": [
        "2. What is Programming?"
      ],
      "metadata": {
        "id": "-poPD-wZl5zm"
      }
    },
    {
      "cell_type": "markdown",
      "source": [
        "Ans -: Programming is the process of writing code that a computer can understand and execute to perform specific tasks.\n",
        "\n",
        "Keys of programming\n",
        "1. Wrinting code\n",
        "2. Problem Solving\n",
        "3. Testing and debugging\n",
        "4. Optimization"
      ],
      "metadata": {
        "id": "tSm_JHb7mC5l"
      }
    },
    {
      "cell_type": "markdown",
      "source": [
        "3. What is Python ?"
      ],
      "metadata": {
        "id": "VBEs5H5Qmv8K"
      }
    },
    {
      "cell_type": "markdown",
      "source": [
        "Ans-:  Python is high-level interpreted programming languuage khown for its simplicity and readablity. it is widly used for web devlopment, data analysis, ai, automation and more\n",
        "\n",
        "Its high-level built in data structures, combined with dynamic typing and\n",
        "dynamic binding, make it very attractive for Rapid Application\n",
        "Development\n"
      ],
      "metadata": {
        "id": "YjcjKAHSm_Jm"
      }
    },
    {
      "cell_type": "markdown",
      "source": [
        "4. write a python program to check if a number is positive,negative or zero  "
      ],
      "metadata": {
        "id": "VGxnbK9HnfDf"
      }
    },
    {
      "cell_type": "code",
      "source": [
        "num = int(input(\"Enter Number -> \"))\n",
        "\n",
        "if num > 1:\n",
        "  print(\"Number is Positive\")\n",
        "elif num == 0:\n",
        "  print(\"Number is Zero\")\n",
        "else:\n",
        "  print(\"Number is Negative\")"
      ],
      "metadata": {
        "colab": {
          "base_uri": "https://localhost:8080/"
        },
        "id": "PaQBPtC9-0XZ",
        "outputId": "518357f6-2c88-4492-e89c-906cdee3411a"
      },
      "execution_count": null,
      "outputs": [
        {
          "output_type": "stream",
          "name": "stdout",
          "text": [
            "Enter Number -> -1\n",
            "Number is Negative\n"
          ]
        }
      ]
    },
    {
      "cell_type": "markdown",
      "source": [
        "5. write a python program to get the fectorial number of given numbers"
      ],
      "metadata": {
        "id": "daUPp6II_JT5"
      }
    },
    {
      "cell_type": "code",
      "source": [
        "no = int(input(\"enter number -> \"))\n",
        "\n",
        "fact = 1\n",
        "\n",
        "for i in range(1,no+1):\n",
        "  fact = fact * i\n",
        "\n",
        "print(fact)"
      ],
      "metadata": {
        "colab": {
          "base_uri": "https://localhost:8080/"
        },
        "id": "iwk_pPT-_I1R",
        "outputId": "af79de88-2793-43a6-b3a3-066b8cd3cfc0"
      },
      "execution_count": null,
      "outputs": [
        {
          "output_type": "stream",
          "name": "stdout",
          "text": [
            "enter number -> 5\n",
            "120\n"
          ]
        }
      ]
    },
    {
      "cell_type": "markdown",
      "source": [
        "6. write a python programe to get the fibonacci series of given range"
      ],
      "metadata": {
        "id": "NTVhFkY3BCY0"
      }
    },
    {
      "cell_type": "code",
      "source": [
        "n = int(input(\"Enter No -> \"))\n",
        "a = 0\n",
        "b = 1\n",
        "co = 0\n",
        "\n",
        "while co < n:\n",
        "  print(a)\n",
        "  c = a+b\n",
        "  a = b\n",
        "  b = c\n",
        "  co+=1"
      ],
      "metadata": {
        "id": "v6Qu8329BTZF",
        "colab": {
          "base_uri": "https://localhost:8080/"
        },
        "outputId": "4be7e694-debf-4d64-b155-fc2b0eeb6060"
      },
      "execution_count": null,
      "outputs": [
        {
          "output_type": "stream",
          "name": "stdout",
          "text": [
            "Enter No -> 10\n",
            "0\n",
            "1\n",
            "1\n",
            "2\n",
            "3\n",
            "5\n",
            "8\n",
            "13\n",
            "21\n",
            "34\n"
          ]
        }
      ]
    },
    {
      "cell_type": "markdown",
      "source": [
        "7. How memory is managed by python ?\n",
        "\n",
        "Ans. -:  Ptyhon manages momeory automatically through its build-in memory management system. it does this using several key components and techniques to ensure efficient momory use.\n",
        "\n",
        "1. Memory allocatin\n",
        "\n",
        "2. Reference Counting\n",
        "\n",
        "3. Garbage Collection\n",
        "\n",
        "4. Memory Pooling\n",
        "\n",
        "5. Memory Deallocation\n",
        "\n",
        "6. Memory management tools\n",
        "\n",
        "7. Memory Leaks in python\n",
        "\n",
        "8. Optimization"
      ],
      "metadata": {
        "id": "vOG7vyBPn2B1"
      }
    },
    {
      "cell_type": "markdown",
      "source": [
        "8. What is the continuing Statement in python ?\n",
        "\n",
        "> The continue statement is used to skip the current interation and move to the next iteration of the loop.\n",
        "\n",
        "> Syntax -: continue"
      ],
      "metadata": {
        "id": "NpCPZJJdqx0w"
      }
    },
    {
      "cell_type": "markdown",
      "source": [
        "9. Write a python program that swap two numbers with temp variable and without temp variable.\n"
      ],
      "metadata": {
        "id": "YrkpTC9xuO8i"
      }
    },
    {
      "cell_type": "code",
      "source": [
        "# with temp variables\n",
        "\n",
        "num1 = int(input(\"enter number 1 -> \"))\n",
        "num2 = int(input(\"enter number 2 -> \"))\n",
        "\n",
        "temp = num1\n",
        "num1 = num2\n",
        "num2 = temp\n",
        "\n",
        "print(f\"Before swapping num1 = {num1} and num2 = {num2}\")\n",
        "print(f\"After swapping num1 = {num1} and num2 = {num2}\")"
      ],
      "metadata": {
        "colab": {
          "base_uri": "https://localhost:8080/"
        },
        "id": "nxw8bmq1uypN",
        "outputId": "c1d44b8c-9a95-4a5f-d6ba-ff9c052cee53"
      },
      "execution_count": null,
      "outputs": [
        {
          "output_type": "stream",
          "name": "stdout",
          "text": [
            "enter number 1 -> 10\n",
            "enter number 2 -> 20\n",
            "Before swapping num1 = 20 and num2 = 10\n",
            "After swapping num1 = 20 and num2 = 10\n"
          ]
        }
      ]
    },
    {
      "cell_type": "code",
      "source": [
        "# without temp variable\n",
        "\n",
        "num1 = int(input(\"enter number 1 -> \"))\n",
        "num2 = int(input(\"enter number 2 -> \"))\n",
        "\n",
        "num1 = num1 + num2\n",
        "num2 = num1 - num2\n",
        "num1 = num1 - num2\n",
        "\n",
        "print(f\"Before swapping num1 = {num1} and num2 = {num2}\")\n",
        "print(f\"After swapping num1 = {num1} and num2 = {num2}\")"
      ],
      "metadata": {
        "colab": {
          "base_uri": "https://localhost:8080/"
        },
        "id": "TaoNxnuNvQL8",
        "outputId": "3ca4642d-7f28-4161-abcf-74f68af867d7"
      },
      "execution_count": null,
      "outputs": [
        {
          "output_type": "stream",
          "name": "stdout",
          "text": [
            "enter number 1 -> 15\n",
            "enter number 2 -> 35\n",
            "Before swapping num1 = 35 and num2 = 15\n",
            "After swapping num1 = 35 and num2 = 15\n"
          ]
        }
      ]
    },
    {
      "cell_type": "markdown",
      "source": [
        "10. write a python program to find whether a given number is even or odd. print out an appropriate message to the user"
      ],
      "metadata": {
        "id": "Y_ZpWlk9vjyj"
      }
    },
    {
      "cell_type": "code",
      "source": [
        "num = int(input(\"Enter Number -> \"))\n",
        "\n",
        "if num % 2 == 0:\n",
        "  print(\"Number is Even\")\n",
        "else:\n",
        "  print(\"Number is Odd\")"
      ],
      "metadata": {
        "colab": {
          "base_uri": "https://localhost:8080/"
        },
        "id": "dhYH2ntjv-5K",
        "outputId": "8f2fea90-ddf2-45e4-9523-5f03d921e759"
      },
      "execution_count": null,
      "outputs": [
        {
          "output_type": "stream",
          "name": "stdout",
          "text": [
            "Enter Number -> 2\n",
            "Number is Even\n"
          ]
        }
      ]
    },
    {
      "cell_type": "markdown",
      "source": [
        "11. write a python program to test whether a passed letter is vowel or not"
      ],
      "metadata": {
        "id": "sMMMCWh3wTrq"
      }
    },
    {
      "cell_type": "code",
      "source": [
        "txt = input(\"Enter the text :\")\n",
        "\n",
        "if txt in 'aeiou':\n",
        "  print(\"Letter is vowel\")\n",
        "else:\n",
        "  print(\"Letter is not vowel\")"
      ],
      "metadata": {
        "colab": {
          "base_uri": "https://localhost:8080/"
        },
        "id": "RoXhyyn2xXca",
        "outputId": "a8a36257-8caa-4cfc-c134-a9408f4384a3"
      },
      "execution_count": null,
      "outputs": [
        {
          "output_type": "stream",
          "name": "stdout",
          "text": [
            "Enter the text :a\n",
            "Letter is vowel\n"
          ]
        }
      ]
    },
    {
      "cell_type": "markdown",
      "source": [
        "12. Write a python program to sum of three given integer. However if two values are equal sum will be zero"
      ],
      "metadata": {
        "id": "tWpkvz_lxpUi"
      }
    },
    {
      "cell_type": "code",
      "source": [
        "n1 = int(input(\"Enter Number 1 -> \"))\n",
        "n2 = int(input(\"Enter Number 2 -> \"))\n",
        "n3 = int(input(\"Enter Number 3 -> \"))\n",
        "\n",
        "if n1 == n2 or n1 == n3 or n2 == n3:\n",
        "  print(\"two values are same sum is Zero\")\n",
        "else:\n",
        "  print(f\"Sum is {n1 + n2 + n3}\")"
      ],
      "metadata": {
        "colab": {
          "base_uri": "https://localhost:8080/"
        },
        "id": "ZOR0mGQPxoiQ",
        "outputId": "60b7a4b5-a8ef-40d1-f394-104925f6a011"
      },
      "execution_count": null,
      "outputs": [
        {
          "output_type": "stream",
          "name": "stdout",
          "text": [
            "Enter Number 1 -> 10\n",
            "Enter Number 2 -> 10\n",
            "Enter Number 3 -> 56\n",
            "Sum is Zero\n"
          ]
        }
      ]
    },
    {
      "cell_type": "markdown",
      "source": [
        "13. write a python program that will return true if given integer values are equal or their sum of difference is 5"
      ],
      "metadata": {
        "id": "9zxq6dwCycCa"
      }
    },
    {
      "cell_type": "code",
      "source": [
        "v1 = int(input(\"Enter 1st value -> \"))\n",
        "v2 = int(input(\"Enter 2nd value -> \"))\n",
        "\n",
        "if v1 == v2 or abs(v1 - v2) == 5:\n",
        "  print(\"True\")"
      ],
      "metadata": {
        "colab": {
          "base_uri": "https://localhost:8080/"
        },
        "id": "HY24Nd6RyxPU",
        "outputId": "66fb406b-479b-4861-f1a9-a0c32a4f6407"
      },
      "execution_count": null,
      "outputs": [
        {
          "output_type": "stream",
          "name": "stdout",
          "text": [
            "Enter 1st value -> 10\n",
            "Enter 2nd value -> 5\n",
            "True\n"
          ]
        }
      ]
    },
    {
      "cell_type": "markdown",
      "source": [
        "14. Write a python program to sum of the first n positive integers"
      ],
      "metadata": {
        "id": "xa_6_xOZzVP6"
      }
    },
    {
      "cell_type": "code",
      "source": [
        "n = int(input(\"Enter value -> \"))\n",
        "sum = n * (n+1)/2\n",
        "print(f\"the sum of the first {n} positive integers is {sum}\")"
      ],
      "metadata": {
        "colab": {
          "base_uri": "https://localhost:8080/"
        },
        "id": "BExPWnuRzU2j",
        "outputId": "18368948-9a09-4704-a3c2-8d5effd70f01"
      },
      "execution_count": null,
      "outputs": [
        {
          "output_type": "stream",
          "name": "stdout",
          "text": [
            "Enter value -> 10\n",
            "the sum of the first 10 positive integers is 55.0\n"
          ]
        }
      ]
    },
    {
      "cell_type": "markdown",
      "source": [
        "15. Write a python program to calculate the length of a string"
      ],
      "metadata": {
        "id": "B2dSWK3J0Ec_"
      }
    },
    {
      "cell_type": "code",
      "source": [
        "num = input(\"Enter String -> \")\n",
        "length = len(num)\n",
        "print(f\"Length of the string is {len(num)}\")"
      ],
      "metadata": {
        "colab": {
          "base_uri": "https://localhost:8080/"
        },
        "id": "tfNQW48R0Zth",
        "outputId": "f2b1349e-2853-4741-b7fc-14ae8d59d82b"
      },
      "execution_count": null,
      "outputs": [
        {
          "output_type": "stream",
          "name": "stdout",
          "text": [
            "Enter String -> 10206\n",
            "Length of the string is 5\n"
          ]
        }
      ]
    },
    {
      "cell_type": "markdown",
      "source": [
        "16. Write a python program to count the number of characters in a string"
      ],
      "metadata": {
        "id": "LiXk7h490oQ6"
      }
    },
    {
      "cell_type": "code",
      "source": [
        "st = input(\"Enter the string -> \")\n",
        "c = len(st)\n",
        "print(f\"number of character is : {c} \")"
      ],
      "metadata": {
        "colab": {
          "base_uri": "https://localhost:8080/"
        },
        "id": "TSxTwSGm0nH6",
        "outputId": "74290143-73ac-4ca4-80f3-53130805a768"
      },
      "execution_count": null,
      "outputs": [
        {
          "output_type": "stream",
          "name": "stdout",
          "text": [
            "Enter the string -> maharshi\n",
            "number of character is : 8 \n"
          ]
        }
      ]
    },
    {
      "cell_type": "markdown",
      "source": [
        "17. What are nagetive indexes and why are they used?\n",
        "\n",
        "ans -: negetive indexes are used to access elements from the end of a list, string, or other sequence data types. they provide a convenint way to acces elements starting from the last element of the sequence without needing to know its exact length .\n",
        "\n",
        "> negative index start from end of the sequence"
      ],
      "metadata": {
        "id": "0lDZkKcp1Z3k"
      }
    },
    {
      "cell_type": "markdown",
      "source": [
        "18. write a python programe to count occurrences of a sbustring in string"
      ],
      "metadata": {
        "id": "gI1OOzeE2rtE"
      }
    },
    {
      "cell_type": "code",
      "source": [
        "stri = input(\"Enter the main string -> \")\n",
        "strin = input(\"Enter the sub string -> \")\n",
        "count = stri.count(strin)\n",
        "print(f\"Number of occurrences of '{strin}' in '{stri}' is {count}\")"
      ],
      "metadata": {
        "colab": {
          "base_uri": "https://localhost:8080/"
        },
        "id": "6M85rlKu4XQO",
        "outputId": "4f5081a3-e6d7-42ab-8c35-61e6fe1760a1"
      },
      "execution_count": null,
      "outputs": [
        {
          "output_type": "stream",
          "name": "stdout",
          "text": [
            "Enter the main string -> maharshi\n",
            "Enter the sub string -> maha\n",
            "Number of occurrences of 'maha' in 'maharshi' is 1\n"
          ]
        }
      ]
    },
    {
      "cell_type": "markdown",
      "source": [
        "19. write a python program to count the occurrrences of each word in a given sentence"
      ],
      "metadata": {
        "id": "dgeKAqGU5auP"
      }
    },
    {
      "cell_type": "code",
      "source": [
        "sen = input(\"Enter a sentence -> \")\n",
        "words = sen.split()\n",
        "word_count = {}\n",
        "\n",
        "for word in words:\n",
        "  if word in word_count:\n",
        "    word_count[word] += 1\n",
        "  else:\n",
        "    word_count[word] = 1\n",
        "\n",
        "print(\"Word occurrences:\")\n",
        "for word, count in word_count.items():\n",
        "  print(f\"{word}: {count}\")"
      ],
      "metadata": {
        "colab": {
          "base_uri": "https://localhost:8080/"
        },
        "id": "ZA3GxVrO7Jfn",
        "outputId": "68a2a394-04a3-4490-f43f-1152c9220778"
      },
      "execution_count": null,
      "outputs": [
        {
          "output_type": "stream",
          "name": "stdout",
          "text": [
            "Enter a sentence -> Mjp\n",
            "Word occurrences:\n",
            "Mjp: 1\n"
          ]
        }
      ]
    },
    {
      "cell_type": "markdown",
      "source": [
        "20. write a python program to get a single string from two given string separated by a space and swap the first two characters of each string"
      ],
      "metadata": {
        "id": "5ynZYMbO7PKG"
      }
    },
    {
      "cell_type": "code",
      "source": [
        "st1 = input(\"Enter the first string -> \")\n",
        "st2 = input(\"Enter the second string -> \")\n",
        "\n",
        "if len(st1) >= 2 and len(st2) >= 2:\n",
        "  new_st1 = st2[:2] + st1[2:]\n",
        "  new_st2 = st1[:2] + st2[2:]\n",
        "else:\n",
        "  new_st1 = st1\n",
        "  new_st2 = st2\n",
        "\n",
        "print(f\"New string 1: {new_st1}\")\n",
        "print(f\"New string 2: {new_st2}\")"
      ],
      "metadata": {
        "colab": {
          "base_uri": "https://localhost:8080/"
        },
        "id": "fABJ1MOe8DhI",
        "outputId": "0b52f57c-edb9-4833-850b-a241ec43a12e"
      },
      "execution_count": null,
      "outputs": [
        {
          "output_type": "stream",
          "name": "stdout",
          "text": [
            "Enter the first string -> 10\n",
            "Enter the second string -> 56\n",
            "New string 1: 56\n",
            "New string 2: 10\n"
          ]
        }
      ]
    },
    {
      "cell_type": "markdown",
      "source": [
        "21. write a python program to add 'in' at the end of a given string (length should be at least 3). if the given string already ends with 'ing' then add 'ly' instead if the string length of given string is less then 3, leave it unchanged"
      ],
      "metadata": {
        "id": "TGRmTQ6p8dcU"
      }
    },
    {
      "cell_type": "code",
      "source": [
        "st = input(\"Enter a string -> \")\n",
        "\n",
        "if len(st) >=3:\n",
        "  if st.endswith('ing'):\n",
        "    st += 'ly'\n",
        "  else:\n",
        "    st += 'ing'\n",
        "print(\"Modified string:\", st)"
      ],
      "metadata": {
        "colab": {
          "base_uri": "https://localhost:8080/"
        },
        "id": "m2ORgqBR9Phk",
        "outputId": "8297ab6e-2157-4b40-b2c3-233959ef2c7e"
      },
      "execution_count": null,
      "outputs": [
        {
          "output_type": "stream",
          "name": "stdout",
          "text": [
            "Enter a string -> maharshi \n",
            "Modified string: maharshi ing\n"
          ]
        }
      ]
    },
    {
      "cell_type": "markdown",
      "source": [
        "22. write a python function to reverses a string if its length is a multiple of 4"
      ],
      "metadata": {
        "id": "8YtJq4Of94a0"
      }
    },
    {
      "cell_type": "code",
      "source": [
        "ist = input(\"Enter a string -> \")\n",
        "\n",
        "if len(ist) % 4 == 0:\n",
        "  ist = ist[::-1]\n",
        "  print(\"Reversed string:\", ist)\n",
        "else:\n",
        "  print(\"String length is not a multiple of 4\")\n",
        "\n",
        "print(\"Reversed string:\", ist)"
      ],
      "metadata": {
        "colab": {
          "base_uri": "https://localhost:8080/"
        },
        "id": "i1J6jg7H-c3j",
        "outputId": "99d71c38-bb20-4479-d5c8-2c960f360767"
      },
      "execution_count": null,
      "outputs": [
        {
          "output_type": "stream",
          "name": "stdout",
          "text": [
            "Enter a string -> 456\n",
            "String length is not a multiple of 4\n",
            "Reversed string: 456\n"
          ]
        }
      ]
    },
    {
      "cell_type": "markdown",
      "source": [
        "23. write a python program to get a string made of the first 2 and the last 2 char from a given a string. if the string length is less then 2, return instead of the empty string"
      ],
      "metadata": {
        "id": "Oc-_Qglh_NNz"
      }
    },
    {
      "cell_type": "code",
      "source": [
        "inpstr = input(\"Enter a string -> \")\n",
        "\n",
        "if len(inpstr) < 2:\n",
        "  print(\"Empty string\")\n",
        "else:\n",
        "  newstr = inpstr[:2] + inpstr[-2:]\n",
        "  print(f\"New string -: {newstr}\")"
      ],
      "metadata": {
        "colab": {
          "base_uri": "https://localhost:8080/"
        },
        "id": "SXzag3IO_nxW",
        "outputId": "5f57e661-3a12-404c-c509-a01bf0d6d389"
      },
      "execution_count": null,
      "outputs": [
        {
          "output_type": "stream",
          "name": "stdout",
          "text": [
            "Enter a string -> 564\n",
            "New string -: 5664\n"
          ]
        }
      ]
    },
    {
      "cell_type": "markdown",
      "source": [
        "24. write a python function to insert a string in the middle of a string."
      ],
      "metadata": {
        "id": "-0mGVvwmAcNt"
      }
    },
    {
      "cell_type": "code",
      "source": [
        "st1 = input(\"Enter the first string -> \")\n",
        "st2 = input(\"Enter the second string -> \")\n",
        "\n",
        "mid = len(st1) // 2\n",
        "res = st1[:mid] + st2 + st1[mid:]\n",
        "\n",
        "print(\"Resulting string:\", res)"
      ],
      "metadata": {
        "id": "S51mRWG5Fy_l",
        "colab": {
          "base_uri": "https://localhost:8080/"
        },
        "outputId": "082a8199-5fa2-4857-937c-66de637b6e9a"
      },
      "execution_count": null,
      "outputs": [
        {
          "output_type": "stream",
          "name": "stdout",
          "text": [
            "Enter the first string -> maharshi \n",
            "Enter the second string -> puro\n",
            "Resulting string: mahapurorshi \n"
          ]
        }
      ]
    },
    {
      "cell_type": "markdown",
      "source": [
        "25. what is list? how will you reverse a list ?\n",
        "\n",
        "ans -: A list in python is a mutable ordered collection of items. it can contain elements of different data types such as integer, string, floats or even other lists. lists are created by placing elements inside square brackets[], separated by commas.\n",
        "\n",
        "> characteristics of lists\n",
        "1. ordered\n",
        "2. mutable\n",
        "3. indexed\n",
        "4. allows duplicate values\n",
        "\n",
        "| Reverse a list in python\n",
        "\n",
        "if we want to reverse a list then we have a built-in fuction\n",
        "> reverse()\n",
        "\n",
        "with the reverse() function we can reverse the value.\n",
        "\n",
        "if we want to create a new list without modifying original list then we can use slicing\n",
        "> [::-1]"
      ],
      "metadata": {
        "id": "MAH5XDfiIPXR"
      }
    },
    {
      "cell_type": "markdown",
      "source": [
        "26. how will you remove last object from a list ?\n",
        "\n",
        "ans -:  if we want to remove the last object from the list then we have 3 ways\n",
        "\n",
        "1. pop() method - with the pop() method we can remove the last object\n",
        "\n",
        "2. slicing([:-1]) - with the use slicing([:-1}) we can create a new list without the left item, having the original list unchanged\n",
        "\n",
        "3. del - it removes the last item by specifying the index -1, modifying the original list"
      ],
      "metadata": {
        "id": "pKBFfRF9Mwni"
      }
    },
    {
      "cell_type": "markdown",
      "source": [
        "27. suppose list1 is [2,33,222,14, and 25], what is list1 [-1]"
      ],
      "metadata": {
        "id": "xVWtYX5wQlzf"
      }
    },
    {
      "cell_type": "code",
      "source": [
        "list1 = [2,33,222,14,25]\n",
        "list1[-1]\n"
      ],
      "metadata": {
        "colab": {
          "base_uri": "https://localhost:8080/"
        },
        "id": "KbvrFa71Q-eO",
        "outputId": "c822f141-ce4d-417c-ec82-c09744e68720"
      },
      "execution_count": null,
      "outputs": [
        {
          "output_type": "execute_result",
          "data": {
            "text/plain": [
              "25"
            ]
          },
          "metadata": {},
          "execution_count": 24
        }
      ]
    },
    {
      "cell_type": "markdown",
      "source": [
        "28. Differentiate between append() and extend() methods?\n",
        "\n",
        "| append()\n",
        "> the purpose of the append() method is used to add a single element to the end of the list.\n",
        "\n",
        "> in the append method list length is changed by the increment of +1\n",
        "\n",
        "> in this method if we add another list then it adds the new list as a single list called - nested list.\n",
        "\n",
        "> Example"
      ],
      "metadata": {
        "id": "d8UHsxjpRHx5"
      }
    },
    {
      "cell_type": "code",
      "source": [
        "lst = [1,2,3]\n",
        "lst.append([4,5])\n",
        "print(lst)"
      ],
      "metadata": {
        "colab": {
          "base_uri": "https://localhost:8080/"
        },
        "id": "d2Z2rKHM__eB",
        "outputId": "6e00d1e1-6042-4bdc-fc6c-33860f66805d"
      },
      "execution_count": null,
      "outputs": [
        {
          "output_type": "stream",
          "name": "stdout",
          "text": [
            "[1, 2, 3, [4, 5]]\n"
          ]
        }
      ]
    },
    {
      "cell_type": "markdown",
      "source": [
        "| extend()\n",
        "> the extend() method is used to add each element from list, tuple, or set individually to the list.\n",
        "\n",
        "> it merges new list into the existing list\n",
        "\n",
        "> in this method list length is changed by increses the number of elements in the iterable\n",
        "\n",
        "> it works with list , tuple , set , etc.\n"
      ],
      "metadata": {
        "id": "l6rfILdrAK8o"
      }
    },
    {
      "cell_type": "code",
      "source": [
        "lst = [1,2,3]\n",
        "lst.extend([4,5])\n",
        "print(lst)"
      ],
      "metadata": {
        "colab": {
          "base_uri": "https://localhost:8080/"
        },
        "id": "1OfCRasoBUd9",
        "outputId": "5fbbdafa-071d-4bfa-84f5-9b061f30783c"
      },
      "execution_count": null,
      "outputs": [
        {
          "output_type": "stream",
          "name": "stdout",
          "text": [
            "[1, 2, 3, 4, 5]\n"
          ]
        }
      ]
    },
    {
      "cell_type": "markdown",
      "source": [
        "29. Write a Python function to get the largest number, smallest number and sum of all from the list."
      ],
      "metadata": {
        "id": "b5l_RSgj6K8H"
      }
    },
    {
      "cell_type": "code",
      "source": [
        "lst = [10,5,25,33,55]\n",
        "\n",
        "largest = max(lst)\n",
        "small = min(lst)\n",
        "sum = sum(lst)\n",
        "\n",
        "print(f\"largest number is {largest}\")\n",
        "print(f\"smallest number is {small}\")\n",
        "print(f\"sum of all number is {sum}\")"
      ],
      "metadata": {
        "colab": {
          "base_uri": "https://localhost:8080/"
        },
        "id": "9iXhArG43lxs",
        "outputId": "8e148aa9-28cb-4149-b96f-7a6c0f2b0a89"
      },
      "execution_count": null,
      "outputs": [
        {
          "output_type": "stream",
          "name": "stdout",
          "text": [
            "largest number is 55\n",
            "smallest number is 5\n",
            "sum of all number is 128\n"
          ]
        }
      ]
    },
    {
      "cell_type": "markdown",
      "source": [
        "30. How Will you compare two lists?"
      ],
      "metadata": {
        "id": "kZmHXWPV6eJK"
      }
    },
    {
      "cell_type": "code",
      "source": [
        "# if we want to compare two list then we use == sign\n",
        "\n",
        "list1 = [1,2,3]\n",
        "list2 = [1,2,3]\n",
        "\n",
        "if list1 == list2:\n",
        "  print(\"list are equal\")\n",
        "else:\n",
        "  print(\"list are not equal\")"
      ],
      "metadata": {
        "colab": {
          "base_uri": "https://localhost:8080/"
        },
        "id": "stHJk_d34VHn",
        "outputId": "219107eb-450a-46e3-ce63-fddd85ef37ba"
      },
      "execution_count": null,
      "outputs": [
        {
          "output_type": "stream",
          "name": "stdout",
          "text": [
            "list are equal\n"
          ]
        }
      ]
    },
    {
      "cell_type": "markdown",
      "source": [
        "31. Write a python program to count the number of strings where the string length is 2 or more and the first and last character are same from a given list of string"
      ],
      "metadata": {
        "id": "MfJOID2y6mVo"
      }
    },
    {
      "cell_type": "code",
      "source": [],
      "metadata": {
        "id": "igWzfB7b5GUq"
      },
      "execution_count": null,
      "outputs": []
    },
    {
      "cell_type": "markdown",
      "source": [
        "32. Write a python programe to remove duplicates from a list.\n"
      ],
      "metadata": {
        "id": "Z_5xRhnn7DKX"
      }
    },
    {
      "cell_type": "code",
      "source": [
        "num = [1,2,2,3,5,4,5,5,6]\n",
        "\n",
        "num = list(set(num))\n",
        "num"
      ],
      "metadata": {
        "colab": {
          "base_uri": "https://localhost:8080/"
        },
        "id": "fAzHyZA35Tkx",
        "outputId": "8f2ac1ab-57f1-4beb-f49f-931100299b58"
      },
      "execution_count": null,
      "outputs": [
        {
          "output_type": "execute_result",
          "data": {
            "text/plain": [
              "[1, 2, 3, 4, 5, 6]"
            ]
          },
          "metadata": {},
          "execution_count": 6
        }
      ]
    },
    {
      "cell_type": "markdown",
      "source": [
        "33. Write a python program to check a list is empty or not"
      ],
      "metadata": {
        "id": "PyfZFkZb7Y0B"
      }
    },
    {
      "cell_type": "code",
      "source": [
        "m_lst = []\n",
        "\n",
        "if len(m_lst) == 0:\n",
        "  print(\"List is empty\")\n",
        "else:\n",
        "  print(\"List is not empty\")"
      ],
      "metadata": {
        "colab": {
          "base_uri": "https://localhost:8080/"
        },
        "id": "pYmSR6s263tO",
        "outputId": "c5480dd5-e166-428c-a3dc-ecdcf93d25a5"
      },
      "execution_count": null,
      "outputs": [
        {
          "output_type": "stream",
          "name": "stdout",
          "text": [
            "List is empty\n"
          ]
        }
      ]
    },
    {
      "cell_type": "markdown",
      "source": [
        "34. Write a python function that takes two lists and returns true if they have at least one comman member."
      ],
      "metadata": {
        "id": "7JfDlZDM7tnb"
      }
    },
    {
      "cell_type": "code",
      "source": [
        "list1 = [1,2,3,4,5]\n",
        "list2 = [5,6,7,8,9]\n",
        "\n",
        "for i in list1:\n",
        "  if i in list2:\n",
        "    print(\"One common member at both list\")"
      ],
      "metadata": {
        "colab": {
          "base_uri": "https://localhost:8080/"
        },
        "id": "tTCFyp8Q7Gfn",
        "outputId": "1b8b9c4b-c073-4d6a-ec1c-db2495a3786a"
      },
      "execution_count": null,
      "outputs": [
        {
          "output_type": "stream",
          "name": "stdout",
          "text": [
            "One common member at both list\n"
          ]
        }
      ]
    },
    {
      "cell_type": "markdown",
      "source": [
        "35. write a python program to generate and print a list of first and last 5 elements where the values are square of numbers between 1 and 30.\n"
      ],
      "metadata": {
        "id": "ViVu4xWD7-Kj"
      }
    },
    {
      "cell_type": "code",
      "source": [
        "sq = [ i**2 for i in range(1,31)]\n",
        "\n",
        "r = sq[:5] + sq[-5:]\n",
        "r"
      ],
      "metadata": {
        "colab": {
          "base_uri": "https://localhost:8080/"
        },
        "id": "ZARhGnTp9HeW",
        "outputId": "2a894522-05ef-4928-a09e-b74a8406a402"
      },
      "execution_count": null,
      "outputs": [
        {
          "output_type": "execute_result",
          "data": {
            "text/plain": [
              "[1, 4, 9, 16, 25, 676, 729, 784, 841, 900]"
            ]
          },
          "metadata": {},
          "execution_count": 9
        }
      ]
    },
    {
      "cell_type": "markdown",
      "source": [
        "36. Write a python function that takes a list and returns a new list with unique elements of the list."
      ],
      "metadata": {
        "id": "_2XRGeAB8c6l"
      }
    },
    {
      "cell_type": "code",
      "source": [
        "list1 = [1,2,2,3,4,4,5,6,6]\n",
        "\n",
        "list(set(list1))\n"
      ],
      "metadata": {
        "colab": {
          "base_uri": "https://localhost:8080/"
        },
        "id": "-8JSFx54_2C6",
        "outputId": "32dce9df-c900-405c-d78a-0869f0b8d62b"
      },
      "execution_count": null,
      "outputs": [
        {
          "output_type": "execute_result",
          "data": {
            "text/plain": [
              "[1, 2, 3, 4, 5, 6]"
            ]
          },
          "metadata": {},
          "execution_count": 10
        }
      ]
    },
    {
      "cell_type": "markdown",
      "source": [
        "37. write a python program to convert a list of charaters into a string\n"
      ],
      "metadata": {
        "id": "4vQy-m3m8vcA"
      }
    },
    {
      "cell_type": "code",
      "source": [
        "m = ['M','J','P','u','r','o','h','i','t']\n",
        "''.join(m)"
      ],
      "metadata": {
        "colab": {
          "base_uri": "https://localhost:8080/",
          "height": 36
        },
        "id": "YBmvl_V1AF52",
        "outputId": "3c8bb1fb-32fd-4868-f157-56bd88960aed"
      },
      "execution_count": null,
      "outputs": [
        {
          "output_type": "execute_result",
          "data": {
            "text/plain": [
              "'MJPurohit'"
            ],
            "application/vnd.google.colaboratory.intrinsic+json": {
              "type": "string"
            }
          },
          "metadata": {},
          "execution_count": 17
        }
      ]
    },
    {
      "cell_type": "markdown",
      "source": [
        "38. write a python program to select an item randomly from a list"
      ],
      "metadata": {
        "id": "h1x2t4ml88Us"
      }
    },
    {
      "cell_type": "code",
      "source": [
        "import random\n",
        "li = ['Ahemdabad','Mehsana','Chanasma','Patan','Kalol']\n",
        "\n",
        "nl = random.choice(li)\n",
        "nl"
      ],
      "metadata": {
        "colab": {
          "base_uri": "https://localhost:8080/",
          "height": 36
        },
        "id": "TgqAUaz-DL9_",
        "outputId": "1012437d-0016-4252-ae27-762221956d7a"
      },
      "execution_count": null,
      "outputs": [
        {
          "output_type": "execute_result",
          "data": {
            "text/plain": [
              "'Ahemdabad'"
            ],
            "application/vnd.google.colaboratory.intrinsic+json": {
              "type": "string"
            }
          },
          "metadata": {},
          "execution_count": 9
        }
      ]
    },
    {
      "cell_type": "markdown",
      "source": [
        "39. write a python program to find the second smallest number in a list.\n"
      ],
      "metadata": {
        "id": "GZ9i68Aw-qhY"
      }
    },
    {
      "cell_type": "code",
      "source": [
        "num = [1,5,6,7,12,15,84,55,54,52,80]\n",
        "num.sort()\n",
        "print(num)\n",
        "print(f\"second smallest number is {num[1]}\")"
      ],
      "metadata": {
        "id": "dJ1qq9o4rV8w",
        "colab": {
          "base_uri": "https://localhost:8080/"
        },
        "outputId": "f72c395a-67da-44e3-9bec-6f8a9369fe62"
      },
      "execution_count": null,
      "outputs": [
        {
          "output_type": "stream",
          "name": "stdout",
          "text": [
            "[1, 5, 6, 7, 12, 15, 52, 54, 55, 80, 84]\n",
            "second smallest number is 5\n"
          ]
        }
      ]
    },
    {
      "cell_type": "markdown",
      "source": [
        "40. write a python program to get unique values from a list"
      ],
      "metadata": {
        "id": "0v4_XBc2-3Vn"
      }
    },
    {
      "cell_type": "code",
      "source": [
        "num = [1,2,2,3,4,4,5,6,6]\n",
        "\n",
        "list(set(num))"
      ],
      "metadata": {
        "colab": {
          "base_uri": "https://localhost:8080/"
        },
        "id": "PcPvRySexlrr",
        "outputId": "2de3771a-2f17-4b5d-882d-e06eb451e6f5"
      },
      "execution_count": null,
      "outputs": [
        {
          "output_type": "execute_result",
          "data": {
            "text/plain": [
              "[1, 2, 3, 4, 5, 6]"
            ]
          },
          "metadata": {},
          "execution_count": 2
        }
      ]
    },
    {
      "cell_type": "markdown",
      "source": [
        "41. write a python program to check whether a list contains a sub list."
      ],
      "metadata": {
        "id": "-ejVpgCWs0GI"
      }
    },
    {
      "cell_type": "code",
      "source": [
        "li1 = [1,2,3,4,5,6,7,8]\n",
        "li2 = [3,4,5]\n",
        "\n",
        "set(li2).issubset(set(li1))"
      ],
      "metadata": {
        "colab": {
          "base_uri": "https://localhost:8080/"
        },
        "id": "zo9wSkLmxyiU",
        "outputId": "e416597b-9cde-4fd0-fde5-edd297ce6a57"
      },
      "execution_count": null,
      "outputs": [
        {
          "output_type": "execute_result",
          "data": {
            "text/plain": [
              "True"
            ]
          },
          "metadata": {},
          "execution_count": 3
        }
      ]
    },
    {
      "cell_type": "markdown",
      "source": [
        "42. write a python program to split a list into different variables"
      ],
      "metadata": {
        "id": "-amWCvCwtHY5"
      }
    },
    {
      "cell_type": "code",
      "source": [
        "l = [1,2,3,4,5]\n",
        "\n",
        "a,b,c,d,e = l\n",
        "\n",
        "print(f\"a = {a}\")\n",
        "print(f\"b = {b}\")\n",
        "print(f\"c = {c}\")\n",
        "print(f\"d = {d}\")\n",
        "print(f\"e = {e}\")\n"
      ],
      "metadata": {
        "colab": {
          "base_uri": "https://localhost:8080/"
        },
        "id": "xQ0AcjeRyfh9",
        "outputId": "f7e59ba3-cafb-47f5-f021-b57453839688"
      },
      "execution_count": null,
      "outputs": [
        {
          "output_type": "stream",
          "name": "stdout",
          "text": [
            "a = 1\n",
            "b = 2\n",
            "c = 3\n",
            "d = 4\n",
            "e = 5\n"
          ]
        }
      ]
    },
    {
      "cell_type": "markdown",
      "source": [
        "43. what is tuple ? difference between list and tuple"
      ],
      "metadata": {
        "id": "CzGj3l3VtUPc"
      }
    },
    {
      "cell_type": "markdown",
      "source": [
        "Tuple : a tuple is an ordered, immutable collection of elements in python.\n",
        "> it defines with () brackets\n",
        "\n",
        "> List\n",
        "\n",
        "1. it is ordered.\n",
        "2. it is mutable.\n",
        "3. it defines with [ ] bracktes.\n",
        "*  methods\n",
        "> 1. append()\n",
        "> 2. remove()\n",
        "\n",
        "> Tuple\n",
        "1. it is ordered\n",
        "2. it is immutable\n",
        "3. it defines with ( ) bracktes.\n",
        "* methods\n",
        "> 1.count()\n",
        "\n",
        " > 2.index()\n"
      ],
      "metadata": {
        "id": "ezJIi2SzzDI1"
      }
    },
    {
      "cell_type": "markdown",
      "source": [
        "44. Write a python program to create a tuple with different data types\n"
      ],
      "metadata": {
        "id": "ojX8BeIttZe7"
      }
    },
    {
      "cell_type": "code",
      "source": [
        "inti = int(input(\"Enter integer Value : \"))\n",
        "St = input(\"Enter String Value : \")\n",
        "fl = float(input(\"Enter float Value : \"))\n",
        "\n",
        "tup = (inti,St,fl)\n",
        "tup"
      ],
      "metadata": {
        "colab": {
          "base_uri": "https://localhost:8080/"
        },
        "id": "RdJprYhl2Flk",
        "outputId": "b1c4a7f1-4c4c-4fc4-d01e-9bd716fd686b"
      },
      "execution_count": 3,
      "outputs": [
        {
          "name": "stdout",
          "output_type": "stream",
          "text": [
            "Enter integer Value : 53\n",
            "Enter String Value : meet\n",
            "Enter float Value : 5.2\n"
          ]
        },
        {
          "output_type": "execute_result",
          "data": {
            "text/plain": [
              "(53, 'meet', 5.2)"
            ]
          },
          "metadata": {},
          "execution_count": 3
        }
      ]
    },
    {
      "cell_type": "markdown",
      "source": [
        "45. write a python program to unzip a list of tuples into individual lists."
      ],
      "metadata": {
        "id": "S21I48PztrjP"
      }
    },
    {
      "cell_type": "code",
      "source": [
        "ml = [(1,2,3),(4,5,6)]\n",
        "ul = list(zip(*ml))\n",
        "uli = [list(i) for i in ul]\n",
        "uli"
      ],
      "metadata": {
        "colab": {
          "base_uri": "https://localhost:8080/"
        },
        "id": "NtiVrLzh4Yap",
        "outputId": "3c50f613-f60c-4a08-cd2f-7bb085df323c"
      },
      "execution_count": 5,
      "outputs": [
        {
          "output_type": "execute_result",
          "data": {
            "text/plain": [
              "[[1, 4], [2, 5], [3, 6]]"
            ]
          },
          "metadata": {},
          "execution_count": 5
        }
      ]
    },
    {
      "cell_type": "markdown",
      "source": [
        "46. write a python program to convert a list of tuples into a dictionary"
      ],
      "metadata": {
        "id": "5q_cei0ot1dD"
      }
    },
    {
      "cell_type": "code",
      "source": [
        "lst = [('Date',5),('Month',3),('Year',2004)]\n",
        "dict(lst)"
      ],
      "metadata": {
        "colab": {
          "base_uri": "https://localhost:8080/"
        },
        "id": "JZlBMgNh5ACw",
        "outputId": "e9db6a23-cea9-4e77-a68a-4b01a5367588"
      },
      "execution_count": 6,
      "outputs": [
        {
          "output_type": "execute_result",
          "data": {
            "text/plain": [
              "{'Date': 5, 'Month': 3, 'Year': 2004}"
            ]
          },
          "metadata": {},
          "execution_count": 6
        }
      ]
    },
    {
      "cell_type": "markdown",
      "source": [
        "47. how will to create a dictionary using tuples in python"
      ],
      "metadata": {
        "id": "p2GSrcPiuC_a"
      }
    },
    {
      "cell_type": "markdown",
      "source": [
        "> If we want to convert tuple in dictionary then we have an built-in method dict()\n",
        "\n",
        "| when we use the dict() method then the data will be converted into the dictionary from tuple\n",
        "\n",
        "> 2nd method is loop\n",
        "\n",
        "| another way to convert tuple to dictionary is loop\n",
        "\n",
        "| with the loop we can store the values from tuple in { key : value } pairs\n",
        "\n",
        "> 3rd method is dictionary comprehension\n",
        "| we can also use dictionary comprehension to create a dictionary from a list of tuples.\n"
      ],
      "metadata": {
        "id": "7EucDOoh6FcP"
      }
    },
    {
      "cell_type": "markdown",
      "source": [
        "48. Write a python script to sort (ascending & descending) a dictionary by value."
      ],
      "metadata": {
        "id": "pOmWaUniu-yR"
      }
    },
    {
      "cell_type": "code",
      "source": [
        "dic = {1:'Ranip',3:'New Ranip',7:'Navrangpura',5:'Iscon'}\n",
        "\n",
        "sor = dict(sorted(dic.items()))\n",
        "print(f\"Assending {sor}\")\n",
        "\n",
        "des = dict(sorted(dic.items(),reverse=True))\n",
        "print(f\"Desending {des}\")\n",
        "\n"
      ],
      "metadata": {
        "colab": {
          "base_uri": "https://localhost:8080/"
        },
        "id": "ukb4cpY78yG5",
        "outputId": "e58e2bd8-f5a8-4ffa-b5b8-641f22e65430"
      },
      "execution_count": 11,
      "outputs": [
        {
          "output_type": "stream",
          "name": "stdout",
          "text": [
            "Assending {1: 'Ranip', 3: 'New Ranip', 5: 'Iscon', 7: 'Navrangpura'}\n",
            "Desending {7: 'Navrangpura', 5: 'Iscon', 3: 'New Ranip', 1: 'Ranip'}\n"
          ]
        }
      ]
    },
    {
      "cell_type": "markdown",
      "source": [
        "49. write a python script to concatenate following dictionaries to create a new one."
      ],
      "metadata": {
        "id": "l86SQf5xuP_T"
      }
    },
    {
      "cell_type": "code",
      "source": [
        "d1 ={1:'ranip',2:'new ranip'}\n",
        "d2 ={3:'ahemdabad',4:'gandhinagar'}\n",
        "\n",
        "new = d1.copy()\n",
        "new.update(d2)\n",
        "new"
      ],
      "metadata": {
        "colab": {
          "base_uri": "https://localhost:8080/"
        },
        "id": "CFLGmDEv-K5w",
        "outputId": "9e1d60ee-b3cf-4216-89e3-abe127418667"
      },
      "execution_count": 15,
      "outputs": [
        {
          "output_type": "execute_result",
          "data": {
            "text/plain": [
              "{1: 'ranip', 2: 'new ranip', 3: 'ahemdabad', 4: 'gandhinagar'}"
            ]
          },
          "metadata": {},
          "execution_count": 15
        }
      ]
    },
    {
      "cell_type": "markdown",
      "source": [
        "50. Write a python script to check if a given key already exists in a dictionary"
      ],
      "metadata": {
        "id": "S98gZAgyugvY"
      }
    },
    {
      "cell_type": "code",
      "source": [
        "my_dict = {1:'phython',2:'java',3:'c++',4:'.net'}\n",
        "\n",
        "def check_key_exists(dictionary, key):\n",
        "    if key in dictionary:\n",
        "        print(f\"'{key}' exists in the dictionary.\")\n",
        "    else:\n",
        "        print(f\"'{key}' does not exist in the dictionary.\")\n",
        "\n",
        "key_to_check = input(\"Enter key to check : \")\n",
        "check_key_exists(my_dict, key_to_check)\n"
      ],
      "metadata": {
        "colab": {
          "base_uri": "https://localhost:8080/"
        },
        "id": "P0IkE4eoADMt",
        "outputId": "bf013280-b762-43c1-d38f-1ad120dd8ab4"
      },
      "execution_count": 29,
      "outputs": [
        {
          "output_type": "stream",
          "name": "stdout",
          "text": [
            "Enter key to check : c\n",
            "'c' does not exist in the dictionary.\n"
          ]
        }
      ]
    },
    {
      "cell_type": "code",
      "source": [],
      "metadata": {
        "id": "m8-7gmhfBRFa"
      },
      "execution_count": null,
      "outputs": []
    }
  ]
}