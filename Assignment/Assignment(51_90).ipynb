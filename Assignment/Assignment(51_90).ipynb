{
  "nbformat": 4,
  "nbformat_minor": 0,
  "metadata": {
    "colab": {
      "provenance": []
    },
    "kernelspec": {
      "name": "python3",
      "display_name": "Python 3"
    },
    "language_info": {
      "name": "python"
    }
  },
  "cells": [
    {
      "cell_type": "markdown",
      "source": [
        "51. How do you traverse through a dictionary object in python"
      ],
      "metadata": {
        "id": "OGnC7a-GEZem"
      }
    },
    {
      "cell_type": "markdown",
      "source": [
        "> We can traverse through a dictionary in a several ways\n",
        "\n",
        "1. Using For loop\n",
        "> we can use for loop to iterate over the dictionary's key by default\n",
        "\n",
        "\n",
        "2. Using Values\n",
        "> to traverse through the values of a dictionary, you can use the .value() method.\n",
        "\n",
        "3. traversing through key-value pairs\n",
        "> to access both the keys and values use the .items() method which returns a tuple containing the key-value pairs.\n",
        "\n",
        "4. Using dictionary comprehension\n",
        "> if you want to filter or modify the directory while traversing, you can use dictionary comprehensions.\n",
        "\n",
        "5. traversing in sorted order\n",
        "> if we need to traverse the dictionary in sorted order of keys or values, you can use the sorted() function."
      ],
      "metadata": {
        "id": "KlkOTLKfCT-7"
      }
    },
    {
      "cell_type": "markdown",
      "source": [
        "52. How do you check the presence of a key in a dictionary"
      ],
      "metadata": {
        "id": "rAwO29VQEtMt"
      }
    },
    {
      "cell_type": "markdown",
      "source": [
        "> if we want to check the presence of a key in a dictionary then we have a different ways\n",
        "\n",
        "1. using the in operator\n",
        "> the simplest and most common way to check for the presence of a key is using the in operator. it returns true if the key exists in the dictionary and false otherwise\n",
        "\n",
        "2. using the .get() method\n",
        "> the .get() method returns the value for the given key if the key is found, or none if the key is not found.\n",
        "\n",
        "3. using try-except block\n",
        "> Another way to check for the presence of a key is by attempting to access it directly in a try-except block."
      ],
      "metadata": {
        "id": "cl2h4AEzE61O"
      }
    },
    {
      "cell_type": "markdown",
      "source": [
        "53. Write a python script to print a dictionary where the keys are numbers between 1 and 15"
      ],
      "metadata": {
        "id": "LiPK7GwDE5ML"
      }
    },
    {
      "cell_type": "code",
      "source": [
        "ke = {i:f\"value {i}\"for i in range(1,16)}\n",
        "print(ke)"
      ],
      "metadata": {
        "colab": {
          "base_uri": "https://localhost:8080/"
        },
        "id": "OXlEaxIwB-hO",
        "outputId": "29c710bc-648e-4443-d6e5-cad4a1012f4f"
      },
      "execution_count": null,
      "outputs": [
        {
          "output_type": "stream",
          "name": "stdout",
          "text": [
            "{1: 'value 1', 2: 'value 2', 3: 'value 3', 4: 'value 4', 5: 'value 5', 6: 'value 6', 7: 'value 7', 8: 'value 8', 9: 'value 9', 10: 'value 10', 11: 'value 11', 12: 'value 12', 13: 'value 13', 14: 'value 14', 15: 'value 15'}\n"
          ]
        }
      ]
    },
    {
      "cell_type": "markdown",
      "source": [
        "54. Write a python program to check multiple keys existing in a dictionary."
      ],
      "metadata": {
        "id": "sNhGhHu-FIGs"
      }
    },
    {
      "cell_type": "code",
      "source": [
        "k = {\n",
        "    1:'ahmdabad',\n",
        "    2:'surat',\n",
        "    3:'baroda',\n",
        "    4:'bhavanagar',\n",
        "    5:'rajkot'\n",
        "}\n",
        "\n",
        "k_c = [1,3,4,5]\n",
        "\n",
        "if all(key in k for key in k_c):\n",
        "    print(\"all keys are existing\")\n",
        "else:\n",
        "    print(\"all keys are not existing\")"
      ],
      "metadata": {
        "colab": {
          "base_uri": "https://localhost:8080/"
        },
        "id": "DrTq_PtAISQO",
        "outputId": "d966c7b5-e9d6-4f4a-ba0e-09a594e4fc67"
      },
      "execution_count": null,
      "outputs": [
        {
          "output_type": "stream",
          "name": "stdout",
          "text": [
            "all keys are existing\n"
          ]
        }
      ]
    },
    {
      "cell_type": "markdown",
      "source": [
        "55. write a python script to merge two python dictionary."
      ],
      "metadata": {
        "id": "T94yGkXpFZMa"
      }
    },
    {
      "cell_type": "code",
      "source": [
        "la = {1:'Ahemdabad have area'}\n",
        "lb = {2:'Navarangpura'}\n",
        "\n",
        "la.update(lb)\n",
        "la"
      ],
      "metadata": {
        "colab": {
          "base_uri": "https://localhost:8080/"
        },
        "id": "9XPJNvRYJdAM",
        "outputId": "4730970a-c76b-46e6-ed02-35f3b604770a"
      },
      "execution_count": null,
      "outputs": [
        {
          "output_type": "execute_result",
          "data": {
            "text/plain": [
              "{1: 'Ahemdabad have area', 2: 'Navarangpura'}"
            ]
          },
          "metadata": {},
          "execution_count": 9
        }
      ]
    },
    {
      "cell_type": "markdown",
      "source": [
        "56. Write a python program to map two lists into a dictionary"
      ],
      "metadata": {
        "id": "KfB0k3qAFt_K"
      }
    },
    {
      "cell_type": "code",
      "source": [
        "k = [1,2,3,4,5]\n",
        "k2 = ['a','b','c','d','e']\n",
        "\n",
        "k3 = dict(zip(k,k2))\n",
        "k3"
      ],
      "metadata": {
        "colab": {
          "base_uri": "https://localhost:8080/"
        },
        "id": "T_FuxXFUKZiO",
        "outputId": "37ea0ae1-ea2b-460e-a6ce-de8b9fc1077d"
      },
      "execution_count": null,
      "outputs": [
        {
          "output_type": "execute_result",
          "data": {
            "text/plain": [
              "{1: 'a', 2: 'b', 3: 'c', 4: 'd', 5: 'e'}"
            ]
          },
          "metadata": {},
          "execution_count": 10
        }
      ]
    },
    {
      "cell_type": "markdown",
      "source": [
        "57. writte a python program to find the highest 3 values in a dictionary.\n"
      ],
      "metadata": {
        "id": "Nw5x0b0IF3tB"
      }
    },
    {
      "cell_type": "code",
      "source": [
        "l = {\n",
        "    'a':10,\n",
        "    'b':50,\n",
        "    'c':46,\n",
        "    'd':40,\n",
        "    'e':100,\n",
        "}\n",
        "\n",
        "high = sorted(l.values(),reverse=True)[:3]\n",
        "high"
      ],
      "metadata": {
        "id": "pXW2YwRULBYa",
        "colab": {
          "base_uri": "https://localhost:8080/"
        },
        "outputId": "59463ec8-2c8c-49ad-b4be-5bf6517cd7f5"
      },
      "execution_count": null,
      "outputs": [
        {
          "output_type": "execute_result",
          "data": {
            "text/plain": [
              "[100, 50, 46]"
            ]
          },
          "metadata": {},
          "execution_count": 6
        }
      ]
    },
    {
      "cell_type": "markdown",
      "source": [
        "58. Write a python program to combine values in python list of dictionaries sample data [{'item':'item1','amount':400},{'item':'item2','amount':300},o{'item','item1','amount':750'}]"
      ],
      "metadata": {
        "id": "WIHu3mOoGDwb"
      }
    },
    {
      "cell_type": "code",
      "source": [
        "sdata = [\n",
        "    {'item':'item1','amount':400},\n",
        "    {'item':'item2','amount':300},\n",
        "    {'item':'item3','amount':750}\n",
        "]\n",
        "\n",
        "combined_data = {}\n",
        "for i in sdata:\n",
        "    item = i['item']\n",
        "    amount = i['amount']\n",
        "\n",
        "    if item in combined_data:\n",
        "        combined_data[item] += amount\n",
        "    else:\n",
        "        combined_data[item] = amount\n",
        "\n",
        "result = [{'item': item, 'amount': amount} for item, amount in combined_data.items()]\n",
        "\n",
        "result"
      ],
      "metadata": {
        "colab": {
          "base_uri": "https://localhost:8080/"
        },
        "id": "_BsfMXW-5CVp",
        "outputId": "c6906393-6bf6-4259-98ed-781b65afd36b"
      },
      "execution_count": null,
      "outputs": [
        {
          "output_type": "execute_result",
          "data": {
            "text/plain": [
              "[{'item': 'item1', 'amount': 400},\n",
              " {'item': 'item2', 'amount': 300},\n",
              " {'item': 'item3', 'amount': 750}]"
            ]
          },
          "metadata": {},
          "execution_count": 5
        }
      ]
    },
    {
      "cell_type": "markdown",
      "source": [
        "59. Write a phython program to create a dictionary form a string. and track the count of the letters from the string."
      ],
      "metadata": {
        "id": "sIJf73j26lNV"
      }
    },
    {
      "cell_type": "code",
      "source": [
        "st = 'Hello welcome to programming'\n",
        "cou = {}\n",
        "\n",
        "for char in st:\n",
        "  if char != ' ':\n",
        "    if char in cou:\n",
        "      cou[char] += 1\n",
        "    else:\n",
        "      cou[char] = 1\n",
        "\n",
        "cou"
      ],
      "metadata": {
        "colab": {
          "base_uri": "https://localhost:8080/"
        },
        "id": "7zWrC7Cn7ND4",
        "outputId": "4692a41f-754f-4b78-93e0-df14f32ee1e5"
      },
      "execution_count": null,
      "outputs": [
        {
          "output_type": "execute_result",
          "data": {
            "text/plain": [
              "{'H': 1,\n",
              " 'e': 3,\n",
              " 'l': 3,\n",
              " 'o': 4,\n",
              " 'w': 1,\n",
              " 'c': 1,\n",
              " 'm': 3,\n",
              " 't': 1,\n",
              " 'p': 1,\n",
              " 'r': 2,\n",
              " 'g': 2,\n",
              " 'a': 1,\n",
              " 'i': 1,\n",
              " 'n': 1}"
            ]
          },
          "metadata": {},
          "execution_count": 8
        }
      ]
    },
    {
      "cell_type": "markdown",
      "source": [
        "60. sample string : 'W3resource'"
      ],
      "metadata": {
        "id": "ZECXDj0G77q6"
      }
    },
    {
      "cell_type": "code",
      "source": [
        "sm = 'W3resource'\n",
        "cou = {}\n",
        "\n",
        "for char in sm:\n",
        "  if char in cou:\n",
        "    cou[char] += 1\n",
        "  else:\n",
        "    cou[char] = 1\n",
        "\n",
        "cou"
      ],
      "metadata": {
        "colab": {
          "base_uri": "https://localhost:8080/"
        },
        "id": "uxb_5bnZ81m1",
        "outputId": "83ac2511-7361-477a-ced5-87a3f444074c"
      },
      "execution_count": null,
      "outputs": [
        {
          "output_type": "execute_result",
          "data": {
            "text/plain": [
              "{'W': 1, '3': 1, 'r': 2, 'e': 2, 's': 1, 'o': 1, 'u': 1, 'c': 1}"
            ]
          },
          "metadata": {},
          "execution_count": 9
        }
      ]
    },
    {
      "cell_type": "markdown",
      "source": [
        "61. Write a python function to calculate the factorial of a number (a nonnegative integer)"
      ],
      "metadata": {
        "id": "iwlAHbvk77kF"
      }
    },
    {
      "cell_type": "code",
      "source": [
        "def fecto(n):\n",
        "\n",
        "  if n < 0:\n",
        "    print(\"Invalid Input - an negenegativeinput\")\n",
        "  if n == 0 or n == 1:\n",
        "    return 1\n",
        "  return n * fecto(n-1)\n",
        "\n",
        "print(fecto(5))"
      ],
      "metadata": {
        "colab": {
          "base_uri": "https://localhost:8080/"
        },
        "id": "9ZnHBk09QOXH",
        "outputId": "77d65057-7c34-40b4-cab7-e8cc42cae79e"
      },
      "execution_count": null,
      "outputs": [
        {
          "output_type": "stream",
          "name": "stdout",
          "text": [
            "120\n"
          ]
        }
      ]
    },
    {
      "cell_type": "markdown",
      "source": [
        "62. write a python function to check whether number is in a given range."
      ],
      "metadata": {
        "id": "ejMJHgfvT1E5"
      }
    },
    {
      "cell_type": "code",
      "source": [
        "def range_n(num,start,end):\n",
        "\n",
        "  if start <= num <= end:\n",
        "    return True\n",
        "  else:\n",
        "    return False\n",
        "\n",
        "print(range_n(5,1,10))"
      ],
      "metadata": {
        "colab": {
          "base_uri": "https://localhost:8080/"
        },
        "id": "tANNDsr7UGap",
        "outputId": "26c439c2-c5cd-4950-9ba4-9a68050bd4f2"
      },
      "execution_count": null,
      "outputs": [
        {
          "output_type": "stream",
          "name": "stdout",
          "text": [
            "True\n"
          ]
        }
      ]
    },
    {
      "cell_type": "markdown",
      "source": [
        "63. write a python function to check whether a number is perfect or not."
      ],
      "metadata": {
        "id": "hd6e2UmGRDWC"
      }
    },
    {
      "cell_type": "code",
      "source": [
        "def per_num(num):\n",
        "\n",
        "  if num < 1:\n",
        "    return False\n",
        "  sum_n = sum(i for i in range(1,num) if num % i == 0)\n",
        "  return sum_n == num\n",
        "\n",
        "print(per_num(28))"
      ],
      "metadata": {
        "colab": {
          "base_uri": "https://localhost:8080/"
        },
        "id": "uPJV50JxRhn-",
        "outputId": "b70873b7-b264-4498-8964-55294f885f67"
      },
      "execution_count": null,
      "outputs": [
        {
          "output_type": "stream",
          "name": "stdout",
          "text": [
            "True\n"
          ]
        }
      ]
    },
    {
      "cell_type": "markdown",
      "source": [
        "64. write a python function that checks whether a passed string is palindrome or not."
      ],
      "metadata": {
        "id": "xeN4RZevSHRG"
      }
    },
    {
      "cell_type": "code",
      "source": [
        "def st_pal(a):\n",
        "\n",
        "  a = a.lower().replace(\" \",\"\")\n",
        "  return a == a[::-1]\n",
        "\n",
        "print(st_pal(\"madam\"))"
      ],
      "metadata": {
        "colab": {
          "base_uri": "https://localhost:8080/"
        },
        "id": "iWeQUzsTSG7n",
        "outputId": "a3c303b4-5d27-4413-f979-4642b1c59297"
      },
      "execution_count": null,
      "outputs": [
        {
          "output_type": "stream",
          "name": "stdout",
          "text": [
            "True\n"
          ]
        }
      ]
    },
    {
      "cell_type": "markdown",
      "source": [
        "65. How many basic types of functions are available in python?"
      ],
      "metadata": {
        "id": "3xk4lddjS5pb"
      }
    },
    {
      "cell_type": "markdown",
      "source": [
        "1. Built - in Functions\n",
        "2. User Defined funfunctions\n",
        "3. lambda functions\n",
        "4. recursive functions"
      ],
      "metadata": {
        "id": "3Ceh_cfDU4a2"
      }
    },
    {
      "cell_type": "markdown",
      "source": [
        "66. How can you pick a random item from a list or tuple."
      ],
      "metadata": {
        "id": "GusdXSexVSjy"
      }
    },
    {
      "cell_type": "markdown",
      "source": [
        "if we want to pick a rendom item from a list or tuple then we have options\n",
        "> Random Choice()"
      ],
      "metadata": {
        "id": "vX763OvNVxEw"
      }
    },
    {
      "cell_type": "markdown",
      "source": [
        "67. How can you pick a random item fromm a range?"
      ],
      "metadata": {
        "id": "UTbcozR3Wywv"
      }
    },
    {
      "cell_type": "markdown",
      "source": [
        "if we want to get random item from range then we have method\n",
        "> random choice()\n"
      ],
      "metadata": {
        "id": "ip0LTtQYXGVq"
      }
    },
    {
      "cell_type": "markdown",
      "source": [
        "68. how can you get a rendom number in python?\n"
      ],
      "metadata": {
        "id": "G3AkY06DXXRS"
      }
    },
    {
      "cell_type": "markdown",
      "source": [
        "1. for random integer\n",
        "> random.randint()\n",
        "\n",
        "2. for random floating point\n",
        "> random.random()\n",
        "\n",
        "3. for random number from list\n",
        "> random.choice()"
      ],
      "metadata": {
        "id": "qt_Jqp4XXxt-"
      }
    },
    {
      "cell_type": "markdown",
      "source": [
        "69. how will you set the starting value in generating random numbers?"
      ],
      "metadata": {
        "id": "IzMPW-0TYT-i"
      }
    },
    {
      "cell_type": "markdown",
      "source": [
        "To set the starting value for generating random numbers in Python, you can use the function\n",
        "> random.seed()"
      ],
      "metadata": {
        "id": "onXgCpVsYo--"
      }
    },
    {
      "cell_type": "markdown",
      "source": [
        "70. how will you randomize the items of a list in place?"
      ],
      "metadata": {
        "id": "y2NaPGqoYyFf"
      }
    },
    {
      "cell_type": "markdown",
      "source": [
        "To randomize (shuffle) the items of a list in place in Python, you can use the function.\n",
        ">random.shuffle()\n",
        "\n",
        "This function modifies the list directly and doesn't return a new list."
      ],
      "metadata": {
        "id": "q7SlOV0lZPRI"
      }
    },
    {
      "cell_type": "markdown",
      "source": [
        "71. what is file function in python? what are keywords to create and write file."
      ],
      "metadata": {
        "id": "rI2z4sEdZZ6G"
      }
    },
    {
      "cell_type": "markdown",
      "source": [
        "> File functions are used to open files, reading files, writing files, and closing files.\n",
        "\n",
        "> 'w' - for writing the files\n",
        "\n",
        "> 'r' - for reading the files.\n",
        "\n",
        "> 'a' - for add data in existing files.\n",
        "\n",
        "> 'close()' - to save and close the files."
      ],
      "metadata": {
        "id": "4ZAyMzHUSYx1"
      }
    },
    {
      "cell_type": "markdown",
      "source": [
        "72. write a python program to read an entire text file."
      ],
      "metadata": {
        "id": "wRuzaVNOTLwD"
      }
    },
    {
      "cell_type": "code",
      "source": [
        "# create a new file\n",
        "f = open(\"file1.txt\",'w')\n",
        "f.write(\"\"\" Hello welcome to\n",
        "python programming language\n",
        "and file handling concept\"\"\")\n",
        "f.close()"
      ],
      "metadata": {
        "id": "nOH-pLb5Tpkl"
      },
      "execution_count": 6,
      "outputs": []
    },
    {
      "cell_type": "code",
      "source": [
        "# read entire text\n",
        "f = open(\"file1.txt\",'r')\n",
        "print(f.read())\n",
        "f.close()"
      ],
      "metadata": {
        "colab": {
          "base_uri": "https://localhost:8080/"
        },
        "id": "Zj2r3fC8UjVP",
        "outputId": "89d7d8c0-a90b-4e28-87c2-78a16bd4447c"
      },
      "execution_count": null,
      "outputs": [
        {
          "output_type": "stream",
          "name": "stdout",
          "text": [
            " Hello welcome to\n",
            "python programming language \n",
            "and file handling concept\n",
            "\n"
          ]
        }
      ]
    },
    {
      "cell_type": "markdown",
      "source": [
        "73. write a python program to append text to a text file and display the text"
      ],
      "metadata": {
        "id": "m7wR4b6JVJ-x"
      }
    },
    {
      "cell_type": "code",
      "source": [
        "# append data in existing file\n",
        "f = open(\"file1.txt\",'a')\n",
        "f.write(\"Welcome to ahemdabad\")\n",
        "f.close()"
      ],
      "metadata": {
        "id": "sfP1bcISVrwb"
      },
      "execution_count": null,
      "outputs": []
    },
    {
      "cell_type": "code",
      "source": [
        "# read entire text\n",
        "f = open(\"file1.txt\",'r')\n",
        "print(f.read())\n",
        "f.close()"
      ],
      "metadata": {
        "colab": {
          "base_uri": "https://localhost:8080/"
        },
        "id": "xw-9SSWjWXL-",
        "outputId": "e30852f0-7161-440c-a03e-c2e945920be0"
      },
      "execution_count": null,
      "outputs": [
        {
          "output_type": "stream",
          "name": "stdout",
          "text": [
            " Hello welcome to\n",
            "python programming language \n",
            "and file handling concept\n",
            "Welcome to ahemdabad\n"
          ]
        }
      ]
    },
    {
      "cell_type": "markdown",
      "source": [
        "74. write a python program to read first n lines of a file."
      ],
      "metadata": {
        "id": "7s3k6Xz8WrMt"
      }
    },
    {
      "cell_type": "code",
      "source": [
        "f = open(\"file1.txt\",'r')\n",
        "print(f.readline())\n",
        "f.close()"
      ],
      "metadata": {
        "colab": {
          "base_uri": "https://localhost:8080/"
        },
        "id": "GLjsQG3LW3Ia",
        "outputId": "4d447f96-2216-4057-bd33-477673a5cf8b"
      },
      "execution_count": null,
      "outputs": [
        {
          "output_type": "stream",
          "name": "stdout",
          "text": [
            " Hello welcome to\n",
            "\n"
          ]
        }
      ]
    },
    {
      "cell_type": "markdown",
      "source": [
        "75. write a python program to read last n lines of a file."
      ],
      "metadata": {
        "id": "8fhWhcZ6XGt_"
      }
    },
    {
      "cell_type": "code",
      "source": [
        "f = open(\"file1.txt\",'r')\n",
        "print(f.readlines()[-1])\n",
        "f.close()"
      ],
      "metadata": {
        "colab": {
          "base_uri": "https://localhost:8080/"
        },
        "id": "FFb_24ttW8n3",
        "outputId": "69df5a5e-6bb6-48b0-cd2d-60c63994b929"
      },
      "execution_count": null,
      "outputs": [
        {
          "output_type": "stream",
          "name": "stdout",
          "text": [
            "Welcome to ahemdabad\n"
          ]
        }
      ]
    },
    {
      "cell_type": "markdown",
      "source": [
        "76. write a python program to read a file line by line and store it into a list."
      ],
      "metadata": {
        "id": "ejHX7J5YXMp8"
      }
    },
    {
      "cell_type": "code",
      "source": [
        "# read line by line\n",
        "f = open(\"file1.txt\",'r')\n",
        "print(f.readline(),end='')\n",
        "print(f.readline(),end='')\n",
        "print(f.readline(),end='')\n",
        "print(f.readline(),end='')\n",
        "f.close()"
      ],
      "metadata": {
        "colab": {
          "base_uri": "https://localhost:8080/"
        },
        "id": "YvrL4qNDXsPo",
        "outputId": "49e6f279-4dce-4a91-9575-f00863e86316"
      },
      "execution_count": null,
      "outputs": [
        {
          "output_type": "stream",
          "name": "stdout",
          "text": [
            " Hello welcome to\n",
            "python programming language \n",
            "and file handling concept\n",
            "Welcome to ahemdabad"
          ]
        }
      ]
    },
    {
      "cell_type": "code",
      "source": [
        "# store in list\n",
        "f = open(\"file1.txt\",'r')\n",
        "print(f.readlines())\n",
        "f.close()"
      ],
      "metadata": {
        "colab": {
          "base_uri": "https://localhost:8080/"
        },
        "id": "1XLkcXiZYK88",
        "outputId": "06cc2532-a90e-4226-d5fd-b4bbd7fb590d"
      },
      "execution_count": null,
      "outputs": [
        {
          "output_type": "stream",
          "name": "stdout",
          "text": [
            "[' Hello welcome to\\n', 'python programming language \\n', 'and file handling concept\\n', 'Welcome to ahemdabad']\n"
          ]
        }
      ]
    },
    {
      "cell_type": "markdown",
      "source": [
        "77. write a python programe to read a file line by line and store it into a variable"
      ],
      "metadata": {
        "id": "l_T6YfXdoDdD"
      }
    },
    {
      "cell_type": "code",
      "source": [
        "with open(\"file1.txt\", 'r') as file:\n",
        "  lines = file.readlines()\n",
        "  print(lines)"
      ],
      "metadata": {
        "colab": {
          "base_uri": "https://localhost:8080/"
        },
        "id": "_VkDtkNfohq8",
        "outputId": "799dc29a-bd07-426b-8fc8-f50ef7d464ff"
      },
      "execution_count": 7,
      "outputs": [
        {
          "output_type": "stream",
          "name": "stdout",
          "text": [
            "[' Hello welcome to\\n', 'python programming language\\n', 'and file handling concept']\n"
          ]
        }
      ]
    },
    {
      "cell_type": "markdown",
      "source": [
        "78. write a python program to find the longest words."
      ],
      "metadata": {
        "id": "6EK5VgqDYTEl"
      }
    },
    {
      "cell_type": "code",
      "source": [
        "with open(\"file1.txt\",'r') as f:\n",
        "    words = f.read().split()\n",
        "    longest_word = max(words,key=len)\n",
        "print(longest_word)"
      ],
      "metadata": {
        "colab": {
          "base_uri": "https://localhost:8080/"
        },
        "id": "mTBH_YcsYw8z",
        "outputId": "cad367c2-52b0-4498-b2a7-2ab46e9a2d2a"
      },
      "execution_count": null,
      "outputs": [
        {
          "output_type": "stream",
          "name": "stdout",
          "text": [
            "programming\n"
          ]
        }
      ]
    },
    {
      "cell_type": "markdown",
      "source": [
        "79. write a python program to count the number of lines in a text file."
      ],
      "metadata": {
        "id": "GaqqeV1FZSFj"
      }
    },
    {
      "cell_type": "code",
      "source": [
        "with open(\"file1.txt\",'r') as f:\n",
        "    lines = f.readlines()\n",
        "    print(len(lines))"
      ],
      "metadata": {
        "colab": {
          "base_uri": "https://localhost:8080/"
        },
        "id": "3glGyE3mZKxn",
        "outputId": "0b99b978-f733-4c4c-9b32-4924962f1646"
      },
      "execution_count": null,
      "outputs": [
        {
          "output_type": "stream",
          "name": "stdout",
          "text": [
            "4\n"
          ]
        }
      ]
    },
    {
      "cell_type": "markdown",
      "source": [
        "80. write a python program to count the frequency of words in a file."
      ],
      "metadata": {
        "id": "GT4kGlOKZiKA"
      }
    },
    {
      "cell_type": "code",
      "source": [
        "with open(\"file1.txt\",'r') as f:\n",
        "    words = f.read().split()\n",
        "    word_count = {}\n",
        "    for word in words:\n",
        "        if word in word_count:\n",
        "            word_count[word] += 1\n",
        "        else:\n",
        "            word_count[word] = 1\n",
        "    print(word_count)"
      ],
      "metadata": {
        "colab": {
          "base_uri": "https://localhost:8080/"
        },
        "id": "KKQ3ckcGZe9Q",
        "outputId": "30b66291-801e-41e4-9b4b-2115dd96e8ca"
      },
      "execution_count": 9,
      "outputs": [
        {
          "output_type": "stream",
          "name": "stdout",
          "text": [
            "{'Hello': 1, 'welcome': 1, 'to': 1, 'python': 1, 'programming': 1, 'language': 1, 'and': 1, 'file': 1, 'handling': 1, 'concept': 1}\n"
          ]
        }
      ]
    },
    {
      "cell_type": "markdown",
      "source": [
        "81. write a python program to write a list to a file."
      ],
      "metadata": {
        "id": "qoiUNR68aIR2"
      }
    },
    {
      "cell_type": "code",
      "source": [
        "li = [\"Apple\",\"banana\",\"cherry\",\"date\"]\n",
        "with open(\"file2.txt\",'w') as f:\n",
        "    f.write(str(li)+\" \")"
      ],
      "metadata": {
        "id": "HDeMua9aaKgL"
      },
      "execution_count": null,
      "outputs": []
    },
    {
      "cell_type": "code",
      "source": [
        "f = open(\"file2.txt\",'r')\n",
        "print(f.read())\n",
        "f.close()"
      ],
      "metadata": {
        "colab": {
          "base_uri": "https://localhost:8080/"
        },
        "id": "6QkY_R0saztV",
        "outputId": "b257cbfc-1b42-4c07-bf31-4eab4987ed83"
      },
      "execution_count": null,
      "outputs": [
        {
          "output_type": "stream",
          "name": "stdout",
          "text": [
            "['Apple', 'banana', 'cherry', 'date'] \n"
          ]
        }
      ]
    },
    {
      "cell_type": "markdown",
      "source": [
        "82. write a python program to copy the contents of a file to another file."
      ],
      "metadata": {
        "id": "2-W5SRC6bCwa"
      }
    },
    {
      "cell_type": "code",
      "source": [
        "with open(\"file1.txt\",'r') as f:\n",
        "  con = f.read()\n",
        "\n",
        "with open(\"file2.txt\",'w') as f:\n",
        "    f.write(con)"
      ],
      "metadata": {
        "id": "NMnaNTuTbCBE"
      },
      "execution_count": null,
      "outputs": []
    },
    {
      "cell_type": "code",
      "source": [
        "f = open(\"file2.txt\",'r')\n",
        "print(f.read())\n",
        "f.close()"
      ],
      "metadata": {
        "colab": {
          "base_uri": "https://localhost:8080/"
        },
        "id": "fwMbtq22d2c0",
        "outputId": "8bc28a9a-9af5-40fd-e13d-559759ba7194"
      },
      "execution_count": null,
      "outputs": [
        {
          "output_type": "stream",
          "name": "stdout",
          "text": [
            " Hello welcome to\n",
            "python programming language \n",
            "and file handling concept\n",
            "Welcome to ahemdabad\n"
          ]
        }
      ]
    },
    {
      "cell_type": "markdown",
      "source": [
        "83. explain exeption handling? what is an error in python"
      ],
      "metadata": {
        "id": "bCPiVCSLgu6f"
      }
    },
    {
      "cell_type": "markdown",
      "source": [
        "* Exception Handling\n",
        "\n",
        "> Exception handling in python is a mechanism to deal with runtime errors in a graceful way, so that the program doesn't crash.\n",
        "\n",
        "> we can use the try, except and other related blocks to handle errors and take corrective actions.\n",
        "\n",
        "> we can handle the execption using the \"try-except\" block.\n",
        "\n",
        "1. Try block - contains the code that may cause an exception\n",
        "\n",
        "2. except block - handle the exception id it occurs\n",
        "\n",
        "3. finally block - executes regardless of whether an exception occurs or not\n",
        "\n",
        "4. raise statement - used to manually raise an exception.\n"
      ],
      "metadata": {
        "id": "lNo8Shomg-EA"
      }
    },
    {
      "cell_type": "markdown",
      "source": [
        "* What is error\n",
        "\n",
        "> an error in python is an issue in program that causes it to fail or behave unexpectedly.\n",
        "\n",
        "> there are two types of error\n",
        "\n",
        "1. syntax error -: these occur when the Python interpreter finds incorrect syntax in the code.\n",
        "\n",
        "2. runtime error -: these occur during execution when the code is syntactically correct but leads to an issue.\n",
        "\n",
        "\n",
        "> common exceptions include\n",
        "\n",
        "1. zero division error\n",
        "2. value error\n",
        "3. type error\n",
        "4. index error\n",
        "5. key error\n"
      ],
      "metadata": {
        "id": "ifH9LU0udbZs"
      }
    },
    {
      "cell_type": "markdown",
      "source": [
        "84. how many except statements can a try-except block have? name some built-in exception classes."
      ],
      "metadata": {
        "id": "PLaL_oNcfpdD"
      }
    },
    {
      "cell_type": "markdown",
      "source": [
        "a try block can have multiple except statements to handle different types of exceptions. There is no strict limit, but best practice suggests handling only necessary exceptions to keep the code readable.\n",
        "\n",
        "> Built-in exception classes in python\n",
        "\n",
        "1. ZeroDivisionError – Raised when division by zero occurs.\n",
        "\n",
        "2. ValueError – Raised when a function gets an argument of the right type but an inappropriate value.\n",
        "\n",
        "3. TypeError – Raised when an operation is applied to an object of an inappropriate type.\n",
        "\n",
        "4. IndexError – Raised when trying to access an index that is out of range.\n",
        "\n",
        "5. KeyError – Raised when trying to access a dictionary key that does not exist.\n",
        "\n",
        "6. FileNotFoundError – Raised when trying to open a file that does not exist\n",
        "\n",
        "7. AttributeError – Raised when an invalid attribute reference is made.\n",
        "\n",
        "8. ImportError – Raised when an import statement fails\n",
        "\n",
        "9. NameError – Raised when using an undefined variable.\n",
        "\n",
        "10. RuntimeError – Raised when an error does not fit into any other category."
      ],
      "metadata": {
        "id": "nsqVX3hpgDef"
      }
    },
    {
      "cell_type": "markdown",
      "source": [
        "85. when will the else part  of try-except-else be executed?"
      ],
      "metadata": {
        "id": "CCdFbuqzhLMF"
      }
    },
    {
      "cell_type": "markdown",
      "source": [
        "The else block in a try-except-else statement will execute only if no exceptions occur in the try block. If an exception is raised, the else block is skipped, and the corresponding except block is executed instead."
      ],
      "metadata": {
        "id": "1YDn4mHLhoek"
      }
    },
    {
      "cell_type": "markdown",
      "source": [
        "86. can one block of except statements handle multiple exception ?"
      ],
      "metadata": {
        "id": "fwna1SOXhvto"
      }
    },
    {
      "cell_type": "markdown",
      "source": [
        " A single except block can handle multiple exceptions by specifying them as a tuple inside parentheses (). This makes the code cleaner when the same handling is needed for multiple exception types.\n",
        "\n",
        ""
      ],
      "metadata": {
        "id": "RWqcIm3PiCcZ"
      }
    },
    {
      "cell_type": "markdown",
      "source": [
        "87. what is the finally block executed ?"
      ],
      "metadata": {
        "id": "5quRYsBSiK1z"
      }
    },
    {
      "cell_type": "markdown",
      "source": [
        "The finally block is always executed, regardless of whether an exception occurs or not. It is typically used for cleanup actions like closing files, releasing resources, or disconnecting from databases.\n",
        "\n"
      ],
      "metadata": {
        "id": "c2m0MZ56ibIb"
      }
    },
    {
      "cell_type": "markdown",
      "source": [
        "88. what happens when ,,1''==1 is executed ?"
      ],
      "metadata": {
        "id": "t-4l-F-qiizY"
      }
    },
    {
      "cell_type": "markdown",
      "source": [
        "when ,,1''==1 is executed then it return false\n",
        "\n",
        "> \"1\" is a string and 1 is the integer\n",
        "> then == operator check the both value and data type.\n",
        "\n",
        "then it return false ."
      ],
      "metadata": {
        "id": "EHXYKrd5i8mG"
      }
    },
    {
      "cell_type": "markdown",
      "source": [
        "89. how do you handle exceptions with try/except/finally in python?"
      ],
      "metadata": {
        "id": "-mXxjNPhjnrM"
      }
    },
    {
      "cell_type": "markdown",
      "source": [
        "exception handling in Python ensures that your program runs smoothly even when unexpected errors occur. The try-except-finally structure allows you to handle errors while ensuring that important cleanup actions always execute.\n",
        "\n",
        "1. try Block – Contains code that might raise an exception.\n",
        "\n",
        "2. except Block – Handles specific exceptions and prevents crashes.\n",
        "\n",
        "3. finally Block – Always executes, even if an exception occurs.\n",
        "\n",
        "\n",
        "> when finally executes?\n",
        "1. No Exception - finally runs.\n",
        "2. exception Handled - finally runs.\n",
        "3. exception Not Handled - finally runs, then program crashes.\n",
        "4. return / break in try or except - finally still runs!"
      ],
      "metadata": {
        "id": "xjJfhMA8kBFS"
      }
    },
    {
      "cell_type": "markdown",
      "source": [
        "90. write a python programe that user to enter only odd numbers,else will raise exception"
      ],
      "metadata": {
        "id": "hZ8udRAxkw0i"
      }
    },
    {
      "cell_type": "code",
      "source": [
        "class even_num(Exception):\n",
        "  pass\n",
        "\n",
        "try:\n",
        "  num = int(input(\"odd number aapo -> \"))\n",
        "  if num % 2 == 0:\n",
        "    raise even_num(\"tame even number aappyo che odd numer aapo\")\n",
        "    print(\"tamne odd number aapyo -> \")\n",
        "\n",
        "except even_num as e:\n",
        "  print(\"tame khotu input aapyu che odd number aapo\")\n",
        "except even_num as e:\n",
        "  print(e)"
      ],
      "metadata": {
        "colab": {
          "base_uri": "https://localhost:8080/"
        },
        "id": "hnDpwzB5nbYZ",
        "outputId": "5ae2332b-81ad-44ba-cf5f-e1f0ca09be5d"
      },
      "execution_count": 10,
      "outputs": [
        {
          "output_type": "stream",
          "name": "stdout",
          "text": [
            "odd number aapo -> 8\n",
            "tame khotu input aapyu che odd number aapo\n"
          ]
        }
      ]
    }
  ]
}